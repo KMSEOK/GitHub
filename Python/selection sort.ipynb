{
 "cells": [
  {
   "cell_type": "code",
   "execution_count": 3,
   "source": [
    "# 2021.09.15 3:02\r\n",
    "\r\n",
    "def selection_sort(array):\r\n",
    "    for border in range(0, len(array)-1):\r\n",
    "        min_index = border\r\n",
    "        for point_index in range(border + 1, len(array)):\r\n",
    "            if array[min_index] > array[point_index]:\r\n",
    "                min_index = point_index\r\n",
    "        array[border], array[min_index] = array[min_index], array[border]\r\n",
    "\r\n",
    "array = [61,41,35,32,31,1]\r\n",
    "selection_sort(array)\r\n",
    "print(array)"
   ],
   "outputs": [
    {
     "output_type": "stream",
     "name": "stdout",
     "text": [
      "[1, 31, 32, 35, 41, 61]\n"
     ]
    }
   ],
   "metadata": {}
  }
 ],
 "metadata": {
  "orig_nbformat": 4,
  "language_info": {
   "name": "python",
   "version": "3.8.8",
   "mimetype": "text/x-python",
   "codemirror_mode": {
    "name": "ipython",
    "version": 3
   },
   "pygments_lexer": "ipython3",
   "nbconvert_exporter": "python",
   "file_extension": ".py"
  },
  "kernelspec": {
   "name": "python3",
   "display_name": "Python 3.8.8 64-bit ('base': conda)"
  },
  "interpreter": {
   "hash": "e290ce92e154ccd6b1be6e7376aaa3fe39a49caf7495600842f1370c8d74531d"
  }
 },
 "nbformat": 4,
 "nbformat_minor": 2
}