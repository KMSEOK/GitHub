{
 "cells": [
  {
   "cell_type": "code",
   "execution_count": 16,
   "metadata": {},
   "outputs": [
    {
     "name": "stdout",
     "output_type": "stream",
     "text": [
      "2의 배수가 아닙니다\n",
      "2의 배수입니다\n",
      "3의 배수입니다\n",
      "2의 배수가 아닙니다\n",
      "2의 배수입니다\n",
      "3의배수가 아닙니다.\n",
      "\n"
     ]
    }
   ],
   "source": [
    "a = [5,6,7,8]\n",
    "i=0\n",
    "msg =\"\"\n",
    "\n",
    "for i in range(0, len(a)):\n",
    "    if a[i]%2 ==0:\n",
    "        msg += \"2의 배수입니다\"\n",
    "        msg += \"\\n\"\n",
    "        if a[i] %3 ==0:\n",
    "            msg += \"3의 배수입니다\"\n",
    "            \n",
    "    \n",
    "        else:\n",
    "            msg += \"3의배수가 아닙니다.\"\n",
    "        \n",
    "    else:\n",
    "        msg += \"2의 배수가 아닙니다\"\n",
    "    msg += \"\\n\"\n",
    "print(msg)"
   ]
  }
 ],
 "metadata": {
  "interpreter": {
   "hash": "cc5f70855ac006f3de45a3cc3b9e7d8d53845e50458809cb162b0174266dec97"
  },
  "kernelspec": {
   "display_name": "Python 3.8.8 64-bit ('base': conda)",
   "language": "python",
   "name": "python3"
  },
  "language_info": {
   "codemirror_mode": {
    "name": "ipython",
    "version": 3
   },
   "file_extension": ".py",
   "mimetype": "text/x-python",
   "name": "python",
   "nbconvert_exporter": "python",
   "pygments_lexer": "ipython3",
   "version": "3.8.8"
  },
  "orig_nbformat": 4
 },
 "nbformat": 4,
 "nbformat_minor": 2
}
