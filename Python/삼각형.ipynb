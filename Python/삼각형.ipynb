{
 "cells": [
  {
   "cell_type": "code",
   "execution_count": 1,
   "metadata": {},
   "outputs": [
    {
     "name": "stdout",
     "output_type": "stream",
     "text": [
      "   *   \n",
      "  ***  \n",
      " ***** \n",
      "\n"
     ]
    }
   ],
   "source": [
    "# 삼각형\n",
    "n = 7\n",
    "\n",
    "row = n//2\n",
    "colum = n\n",
    "\n",
    "start = n//2\n",
    "end = start\n",
    "answer = ''\n",
    "\n",
    "for i in range(0,row):\n",
    "    for j in range(0,colum):\n",
    "        if j >= start and j <= end:\n",
    "            answer += \"*\"\n",
    "        else:\n",
    "            answer += \" \"\n",
    "        \n",
    "    answer += '\\n'\n",
    "    start -= 1\n",
    "    end += 1\n",
    "\n",
    "print(answer)\n"
   ]
  }
 ],
 "metadata": {
  "interpreter": {
   "hash": "cc5f70855ac006f3de45a3cc3b9e7d8d53845e50458809cb162b0174266dec97"
  },
  "kernelspec": {
   "display_name": "Python 3.8.8 64-bit ('base': conda)",
   "language": "python",
   "name": "python3"
  },
  "language_info": {
   "codemirror_mode": {
    "name": "ipython",
    "version": 3
   },
   "file_extension": ".py",
   "mimetype": "text/x-python",
   "name": "python",
   "nbconvert_exporter": "python",
   "pygments_lexer": "ipython3",
   "version": "3.8.8"
  },
  "orig_nbformat": 4
 },
 "nbformat": 4,
 "nbformat_minor": 2
}
