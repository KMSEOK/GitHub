{
 "cells": [
  {
   "cell_type": "code",
   "execution_count": null,
   "metadata": {},
   "outputs": [],
   "source": [
    "X = 'ABCBDAB'\n",
    "Y = 'BDCABA'"
   ]
  },
  {
   "cell_type": "code",
   "execution_count": 3,
   "metadata": {},
   "outputs": [
    {
     "name": "stdout",
     "output_type": "stream",
     "text": [
      "8\n",
      "7\n"
     ]
    }
   ],
   "source": [
    "row_count = len(X) +1\n",
    "col_count = len(Y) + 1\n",
    "\n",
    "print(row_count)\n",
    "print(col_count)"
   ]
  },
  {
   "cell_type": "code",
   "execution_count": 10,
   "metadata": {},
   "outputs": [
    {
     "data": {
      "text/plain": [
       "[[0, 0, 0, 0, 0, 0, 0],\n",
       " [0, 'None', 'None', 'None', 'None', 'None', 'None'],\n",
       " [0, 'None', 'None', 'None', 'None', 'None', 'None'],\n",
       " [0, 'None', 'None', 'None', 'None', 'None', 'None'],\n",
       " [0, 'None', 'None', 'None', 'None', 'None', 'None'],\n",
       " [0, 'None', 'None', 'None', 'None', 'None', 'None'],\n",
       " [0, 'None', 'None', 'None', 'None', 'None', 'None'],\n",
       " [0, 'None', 'None', 'None', 'None', 'None', 'None']]"
      ]
     },
     "execution_count": 10,
     "metadata": {},
     "output_type": "execute_result"
    }
   ],
   "source": [
    "matrlx = []\n",
    "\n",
    "for i in range(0, row_count):\n",
    "    row = [ ]\n",
    "    for j in range(0,col_count):\n",
    "        if i == 0 or j ==0:\n",
    "            row.append(0)\n",
    "        else:\n",
    "\n",
    "            row.append('None')\n",
    "    matrlx.append(row)\n",
    "\n",
    "matrlx"
   ]
  },
  {
   "cell_type": "code",
   "execution_count": 13,
   "metadata": {},
   "outputs": [],
   "source": [
    "for i in range(1, len(matrlx)):\n",
    "    row  = matrlx[i]\n",
    "    "
   ]
  }
 ],
 "metadata": {
  "interpreter": {
   "hash": "cc5f70855ac006f3de45a3cc3b9e7d8d53845e50458809cb162b0174266dec97"
  },
  "kernelspec": {
   "display_name": "Python 3.8.8 ('base')",
   "language": "python",
   "name": "python3"
  },
  "language_info": {
   "name": "python",
   "version": "3.8.8"
  },
  "orig_nbformat": 4
 },
 "nbformat": 4,
 "nbformat_minor": 2
}
