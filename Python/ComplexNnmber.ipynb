{
 "cells": [
  {
   "cell_type": "code",
   "execution_count": 4,
   "metadata": {},
   "outputs": [
    {
     "name": "stdout",
     "output_type": "stream",
     "text": [
      "(3+4j)\n",
      "(2-3j)\n",
      "3.0\n",
      "4.0\n",
      "(3-4j)\n",
      "5.0\n"
     ]
    }
   ],
   "source": [
    "#복소수 = 실수부(Real number) + 허수부(Imaginary number)\n",
    "#ex) 3 + 4i 실수부:3 허수부: 4\n",
    "a = 3+4j\n",
    "b = 2-3j\n",
    "\n",
    "c = 3 + 4j\n",
    "d = c.real\n",
    "f = c.imag\n",
    "#절대값(Absolute value) 켤레 복소수(Conjugate complex number)\n",
    "e = a.conjugate()\n",
    "g = abs(a)\n",
    "\n",
    "print(a)\n",
    "print(b)\n",
    "print(d)\n",
    "print(f)\n",
    "print(e)\n",
    "print(g)"
   ]
  }
 ],
 "metadata": {
  "interpreter": {
   "hash": "cc5f70855ac006f3de45a3cc3b9e7d8d53845e50458809cb162b0174266dec97"
  },
  "kernelspec": {
   "display_name": "Python 3.8.8 64-bit ('base': conda)",
   "language": "python",
   "name": "python3"
  },
  "language_info": {
   "codemirror_mode": {
    "name": "ipython",
    "version": 3
   },
   "file_extension": ".py",
   "mimetype": "text/x-python",
   "name": "python",
   "nbconvert_exporter": "python",
   "pygments_lexer": "ipython3",
   "version": "3.8.8"
  },
  "orig_nbformat": 4
 },
 "nbformat": 4,
 "nbformat_minor": 2
}
